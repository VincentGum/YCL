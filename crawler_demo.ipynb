{
 "cells": [
  {
   "cell_type": "code",
   "execution_count": 1,
   "id": "adcd329c",
   "metadata": {},
   "outputs": [],
   "source": [
    "import json\n",
    "import os\n",
    "import requests\n",
    "from bs4 import BeautifulSoup"
   ]
  },
  {
   "cell_type": "code",
   "execution_count": 2,
   "id": "8f5a370f",
   "metadata": {},
   "outputs": [],
   "source": [
    "urlRoot = \"http://shop.tfent.cn/GoodsCategory\"\n",
    "category = {\n",
    "    \"TNT\": \"stationery\",\n",
    "}\n",
    "proxies = {\n",
    "  \"http\": \"http://10.10.1.10:3128\",\n",
    "  \"https\": \"http://10.10.1.10:1080\",\n",
    "}"
   ]
  },
  {
   "cell_type": "code",
   "execution_count": 3,
   "id": "bc5b116b",
   "metadata": {},
   "outputs": [],
   "source": [
    "currentRoot = os.path.join(urlRoot, category[\"TNT\"])\n",
    "rsp = requests.get(currentRoot)"
   ]
  },
  {
   "cell_type": "code",
   "execution_count": 4,
   "id": "140dcd9b",
   "metadata": {
    "scrolled": true
   },
   "outputs": [],
   "source": [
    "soup = BeautifulSoup(rsp.content, 'html.parser')"
   ]
  },
  {
   "cell_type": "code",
   "execution_count": 44,
   "id": "c0c54cc4",
   "metadata": {
    "scrolled": true
   },
   "outputs": [],
   "source": [
    "listBox = soup.find_all(\"div\", {\"class\": \"floor floor2\"})\n",
    "productList = listBox[0].find_all(\"li\")"
   ]
  },
  {
   "cell_type": "code",
   "execution_count": 45,
   "id": "c13b60fa",
   "metadata": {},
   "outputs": [
    {
     "name": "stdout",
     "output_type": "stream",
     "text": [
      "/goods/info.html?id=315\n",
      "/goods/info.html?id=314\n",
      "/goods/info.html?id=296\n",
      "/goods/info.html?id=284\n",
      "/goods/info.html?id=283\n",
      "/goods/info.html?id=252\n",
      "/goods/info.html?id=251\n",
      "/goods/info.html?id=248\n",
      "/goods/info.html?id=243\n",
      "/goods/info.html?id=213\n"
     ]
    }
   ],
   "source": [
    "for product in productList:\n",
    "    a = product.find(\"a\", href=True)\n",
    "    print(a[\"href\"])"
   ]
  },
  {
   "cell_type": "code",
   "execution_count": null,
   "id": "a39cd457",
   "metadata": {},
   "outputs": [],
   "source": []
  }
 ],
 "metadata": {
  "kernelspec": {
   "display_name": "Python 3 (ipykernel)",
   "language": "python",
   "name": "python3"
  },
  "language_info": {
   "codemirror_mode": {
    "name": "ipython",
    "version": 3
   },
   "file_extension": ".py",
   "mimetype": "text/x-python",
   "name": "python",
   "nbconvert_exporter": "python",
   "pygments_lexer": "ipython3",
   "version": "3.8.10"
  }
 },
 "nbformat": 4,
 "nbformat_minor": 5
}
